{
 "cells": [
  {
   "cell_type": "code",
   "execution_count": 1,
   "id": "80dbb725",
   "metadata": {},
   "outputs": [
    {
     "name": "stdout",
     "output_type": "stream",
     "text": [
      " * Serving Flask app \"__main__\" (lazy loading)\n",
      " * Environment: production\n",
      "   WARNING: This is a development server. Do not use it in a production deployment.\n",
      "   Use a production WSGI server instead.\n",
      " * Debug mode: on\n"
     ]
    },
    {
     "name": "stderr",
     "output_type": "stream",
     "text": [
      " * Restarting with windowsapi reloader\n"
     ]
    },
    {
     "ename": "SystemExit",
     "evalue": "1",
     "output_type": "error",
     "traceback": [
      "An exception has occurred, use %tb to see the full traceback.\n",
      "\u001b[1;31mSystemExit\u001b[0m\u001b[1;31m:\u001b[0m 1\n"
     ]
    },
    {
     "name": "stderr",
     "output_type": "stream",
     "text": [
      "C:\\Users\\PC\\anaconda3\\lib\\site-packages\\IPython\\core\\interactiveshell.py:3445: UserWarning: To exit: use 'exit', 'quit', or Ctrl-D.\n",
      "  warn(\"To exit: use 'exit', 'quit', or Ctrl-D.\", stacklevel=1)\n"
     ]
    }
   ],
   "source": [
    "from flask import Flask, render_template, request\n",
    "import joblib \n",
    "import numpy as np\n",
    "import pandas as pd\n",
    "\n",
    "def app_factory():\n",
    "    app = Flask(__name__)\n",
    "\n",
    "    model = joblib.load('project3_model_.pkl')\n",
    "    @app.route(\"/\", methods=['GET', 'POST'])\n",
    "    def index():\n",
    "        if request.method == 'GET':\n",
    "            return render_template('index.html')\n",
    "        if request.method == 'POST':\n",
    "            WHO_region = int(request.form['WHO_region'])\n",
    "            New_cases = int(request.form['New_cases'])\n",
    "            Cumulative_cases =int(request.form['Cumulative_cases'])\n",
    "            Cumulative_deaths = int(request.form['Cumulative_deaths'])\n",
    "            year = int(request.form['year'])\n",
    "            month = int(request.form['month'])\n",
    "            day = int(request.form['day'])\n",
    "            dow = int(request.form['dow'])\n",
    "            woy = int(request.form['woy'])\n",
    "        entrance_subtotal = 0\n",
    "        data = np.array([WHO_region, New_cases, Cumulative_cases, Cumulative_deaths, year, month, day, dow, woy]).reshape(1, -1)\n",
    "        data = pd.DataFrame(data)\n",
    "        \n",
    "        entrance_subtotal = model.predict(data)\n",
    "\n",
    "        return render_template('index.html', entrance_subtotal=entrance_subtotal)\n",
    "    return app\n",
    "if __name__ == '__main__':\n",
    "    app = app_factory()\n",
    "    app.run(debug=True)"
   ]
  },
  {
   "cell_type": "code",
   "execution_count": null,
   "id": "275c63e6",
   "metadata": {},
   "outputs": [],
   "source": []
  }
 ],
 "metadata": {
  "kernelspec": {
   "display_name": "Python 3",
   "language": "python",
   "name": "python3"
  },
  "language_info": {
   "codemirror_mode": {
    "name": "ipython",
    "version": 3
   },
   "file_extension": ".py",
   "mimetype": "text/x-python",
   "name": "python",
   "nbconvert_exporter": "python",
   "pygments_lexer": "ipython3",
   "version": "3.8.8"
  }
 },
 "nbformat": 4,
 "nbformat_minor": 5
}
