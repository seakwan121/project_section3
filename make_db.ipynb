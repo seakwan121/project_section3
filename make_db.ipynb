{
 "cells": [
  {
   "cell_type": "code",
   "execution_count": 1,
   "id": "757e2b03",
   "metadata": {},
   "outputs": [],
   "source": [
    "import pandas as pd\n",
    "import os \n",
    "import sqlite3\n",
    "\n",
    "EXCEL_PATH = os.path.join(os.getcwd(), 'who.csv')\n",
    "df = pd.read_csv(EXCEL_PATH)\n",
    "df_list = df.values.tolist()\n",
    "\n",
    "DATABASE_PATH = os.path.join(os.getcwd(), 'WHO2.db')\n",
    "conn = sqlite3.connect(DATABASE_PATH)\n",
    "cur = conn.cursor()"
   ]
  },
  {
   "cell_type": "code",
   "execution_count": 2,
   "id": "c8a05586",
   "metadata": {},
   "outputs": [],
   "source": [
    "cur.execute(\"DROP TABLE IF EXISTS WHO2;\")\n",
    "cur.execute(\"\"\"CREATE TABLE WHO2(\n",
    "    Date_reported VARCHAR,\n",
    "    Country_code VARCHAR,\t\n",
    "    Country VARCHAR,\t\n",
    "    WHO_region INTEGER,\t\n",
    "    New_cases INTEGER,\t\n",
    "    Cumulative_cases INTEGER,\t\n",
    "    New_deaths INTEGER,\t\n",
    "    Cumulative_deaths INTEGER,\n",
    "    year INTEGER,\n",
    "    month INTEGER,\n",
    "    day INTEGER,\n",
    "    dow INTEGER,\n",
    "    woy INTEGER)\n",
    "\"\"\")\n",
    "for d1, d2, d3, d4, d5, d6, d7, d8, d9, d10, d11, d12, d13 in df_list:\n",
    "    cur.execute(\"INSERT INTO WHO2 (Date_reported, Country_code, Country, WHO_region, New_cases, Cumulative_cases, New_deaths, Cumulative_deaths, year, month, day, dow, woy) VALUES (?,?,?,?,?,?,?,?,?,?,?,?,?);\", (d1, d2, d3, d4, d5, d6, d7, d8, d9, d10, d11, d12, d13))"
   ]
  },
  {
   "cell_type": "code",
   "execution_count": null,
   "id": "83d26593",
   "metadata": {},
   "outputs": [],
   "source": []
  }
 ],
 "metadata": {
  "kernelspec": {
   "display_name": "Python 3",
   "language": "python",
   "name": "python3"
  },
  "language_info": {
   "codemirror_mode": {
    "name": "ipython",
    "version": 3
   },
   "file_extension": ".py",
   "mimetype": "text/x-python",
   "name": "python",
   "nbconvert_exporter": "python",
   "pygments_lexer": "ipython3",
   "version": "3.8.8"
  }
 },
 "nbformat": 4,
 "nbformat_minor": 5
}
