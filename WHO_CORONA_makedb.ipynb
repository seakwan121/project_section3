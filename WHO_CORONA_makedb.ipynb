{
 "cells": [
  {
   "cell_type": "code",
   "execution_count": 4,
   "id": "4983cb1f",
   "metadata": {},
   "outputs": [],
   "source": [
    "import pandas as pd\n",
    "import os \n",
    "import sqlite3\n",
    "\n",
    "EXCEL_PATH = os.path.join(os.getcwd(), 'WHO-COVID-19-global-data.csv')\n",
    "df = pd.read_csv(EXCEL_PATH)\n",
    "df_list = df.values.tolist()\n",
    "\n",
    "DATABASE_PATH = os.path.join(os.getcwd(), 'WHO.db')\n",
    "conn = sqlite3.connect(DATABASE_PATH)\n",
    "cur = conn.cursor()"
   ]
  },
  {
   "cell_type": "code",
   "execution_count": 5,
   "id": "238a27cf",
   "metadata": {},
   "outputs": [],
   "source": [
    "cur.execute(\"DROP TABLE IF EXISTS WHO;\")\n",
    "cur.execute(\"\"\"CREATE TABLE WHO(\n",
    "    Date_reported VARCHAR,\t\n",
    "    Country_code VARCHAR,\t\n",
    "    Country VARCHAR,\t\n",
    "    WHO_region VARCHAR,\t\n",
    "    New_cases INTEGER,\t\n",
    "    Cumulative_cases INTEGER,\t\n",
    "    New_deaths INTEGER,\t\n",
    "    Cumulative_deaths INTEGER)\n",
    "\"\"\")\n",
    "for d1, d2, d3, d4, d5, d6, d7, d8 in df_list:\n",
    "    cur.execute(\"INSERT INTO WHO (Date_reported, Country_code, Country, WHO_region, New_cases, Cumulative_cases, New_deaths, Cumulative_deaths) VALUES (?,?,?,?,?,?,?,?);\", (d1, d2, d3, d4, d5, d6, d7, d8))"
   ]
  },
  {
   "cell_type": "code",
   "execution_count": 6,
   "id": "c74b1163",
   "metadata": {},
   "outputs": [
    {
     "data": {
      "text/plain": [
       "Date_reported        object\n",
       "Country_code         object\n",
       "Country              object\n",
       "WHO_region           object\n",
       "New_cases             int64\n",
       "Cumulative_cases      int64\n",
       "New_deaths            int64\n",
       "Cumulative_deaths     int64\n",
       "dtype: object"
      ]
     },
     "execution_count": 6,
     "metadata": {},
     "output_type": "execute_result"
    }
   ],
   "source": [
    "df.dtypes"
   ]
  },
  {
   "cell_type": "code",
   "execution_count": null,
   "id": "2e826d65",
   "metadata": {},
   "outputs": [],
   "source": []
  }
 ],
 "metadata": {
  "kernelspec": {
   "display_name": "Python 3",
   "language": "python",
   "name": "python3"
  },
  "language_info": {
   "codemirror_mode": {
    "name": "ipython",
    "version": 3
   },
   "file_extension": ".py",
   "mimetype": "text/x-python",
   "name": "python",
   "nbconvert_exporter": "python",
   "pygments_lexer": "ipython3",
   "version": "3.8.8"
  }
 },
 "nbformat": 4,
 "nbformat_minor": 5
}
